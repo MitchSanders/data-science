{
 "cells": [
  {
   "cell_type": "markdown",
   "metadata": {
    "collapsed": true
   },
   "source": [
    "### Ch14 Figure4"
   ]
  },
  {
   "cell_type": "code",
   "execution_count": 1,
   "metadata": {
    "collapsed": false,
    "scrolled": true
   },
   "outputs": [
    {
     "data": {
      "text/html": [
       "<div>\n",
       "<table border=\"1\" class=\"dataframe\">\n",
       "  <thead>\n",
       "    <tr style=\"text-align: right;\">\n",
       "      <th></th>\n",
       "      <th>id</th>\n",
       "      <th>claim</th>\n",
       "    </tr>\n",
       "  </thead>\n",
       "  <tbody>\n",
       "    <tr>\n",
       "      <th>0</th>\n",
       "      <td>0</td>\n",
       "      <td>civil building</td>\n",
       "    </tr>\n",
       "    <tr>\n",
       "      <th>1</th>\n",
       "      <td>1</td>\n",
       "      <td>Artery recovery Rendering Fracture Hospitals H...</td>\n",
       "    </tr>\n",
       "    <tr>\n",
       "      <th>2</th>\n",
       "      <td>2</td>\n",
       "      <td>Brain except Scheduled services Fracture Steel...</td>\n",
       "    </tr>\n",
       "    <tr>\n",
       "      <th>3</th>\n",
       "      <td>3</td>\n",
       "      <td>Materials Injury Quadriplegia manufacturing Hi...</td>\n",
       "    </tr>\n",
       "    <tr>\n",
       "      <th>4</th>\n",
       "      <td>4</td>\n",
       "      <td>foundries Correctional  farming except Joint A...</td>\n",
       "    </tr>\n",
       "  </tbody>\n",
       "</table>\n",
       "</div>"
      ],
      "text/plain": [
       "   id                                              claim\n",
       "0   0                                     civil building\n",
       "1   1  Artery recovery Rendering Fracture Hospitals H...\n",
       "2   2  Brain except Scheduled services Fracture Steel...\n",
       "3   3  Materials Injury Quadriplegia manufacturing Hi...\n",
       "4   4  foundries Correctional  farming except Joint A..."
      ]
     },
     "execution_count": 1,
     "metadata": {},
     "output_type": "execute_result"
    }
   ],
   "source": [
    "# The data science team used this data to create a word cloud of all the organization’s job injuries, and then the team presented a simple visualization of the cloud at their storytelling session\n",
    "\n",
    "string = 'Rope, cordage, twine, tire cord, and tire fabric mills Nursing and residential care facilities Fire protection Rendering and meat byproduct processing Skiing facilities Police protection Interurban and rural bus transportation Veterinary services Travel trailer and camper manufacturing Manufactured home (mobile home) manufacturing Truss manufacturing Hog and pig farming Steel foundries (except investment) Hospitals Heavy and civil engineering construction Prefabricated wood building manufacturing Truck trailer manufacturing Iron foundries Materials recovery facilities Other nonferrous metal foundries (except die-casting) Aluminum foundries (except die-casting) Luggage and leather goods stores Scheduled passenger air transportation Correctional institutions Ambulance services Abrasion Brain Injuries Bruising Burns Cluster Headaches Concussions Congestive Heart Failure Construction Injuries Coronary Artery Disease Defective Products Dislocation Flail Chest Fracture Hemothorax Herniated Disc Hip Pointer Hypothermia Lacerations Pinched Nerve Pneumothorax Prescription Medications Quadriplegia Definition Rib Fracture Sciatica Spinal Cord Injury Temporalmandibular Joint Tendons Ligaments Fascia Injury Traumatic Brain Injury Whiplash'\n",
    "tokens = string.replace(',', '').replace('-', '').replace('(', '').replace(')', '').replace('and', '').split(' ')\n",
    "\n",
    "data = []\n",
    "\n",
    "for i in range(500):\n",
    "    \n",
    "    claim_idx = np.arange(0, len(tokens)-1)\n",
    "    np.random.shuffle(claim_idx)\n",
    "    claim = ' '.join([tokens[x] for x in claim_idx[:rd.randint(1,30)]])\n",
    "        \n",
    "    data.append([i, claim])\n",
    "\n",
    "df = pd.DataFrame(data, columns=['id', 'claim'])\n",
    "# df.to_csv('csv_output/ch14_fig6.csv', index=False)\n",
    "df = pd.read_csv('csv_output/ch14_fig6.csv')\n",
    "df.head()"
   ]
  },
  {
   "cell_type": "code",
   "execution_count": 2,
   "metadata": {
    "collapsed": false,
    "scrolled": false
   },
   "outputs": [
    {
     "data": {
      "image/png": "[encoded data removed]",
      "text/plain": [
       "<matplotlib.figure.Figure at 0xbf08fd0>"
      ]
     },
     "metadata": {},
     "output_type": "display_data"
    }
   ],
   "source": [
    "df = pd.read_csv('csv_output/ch14_fig6.csv')\n",
    "\n",
    "%matplotlib inline\n",
    "sns.set_style(\"white\")\n",
    "\n",
    "all_claims = ''\n",
    "for x in df.iterrows():\n",
    "    all_claims += x[1][1] + ''\n",
    "\n",
    "wgb = pd.DataFrame(all_claims.split(' ')).groupby(0)[0].count()\n",
    "rank = wgb.sort_values(ascending=False)[1:11]\n",
    "\n",
    "f, ax = plt.subplots(1, figsize=(8,6))\n",
    "\n",
    "ax.barh(bottom = np.arange(10)[::-1], width=rank);\n",
    "ax.set_yticks(np.arange(0,10)+.5);\n",
    "ax.set_yticklabels(rank.index[::-1]);\n",
    "ax.set_title('word count')\n",
    "\n",
    "\n",
    "f.savefig('svg_output/ch14_fig6.svg', format='svg')"
   ]
  },
  {
   "cell_type": "code",
   "execution_count": 90,
   "metadata": {
    "collapsed": true
   },
   "outputs": [],
   "source": [
    "# join the joined claims text and use https://www.jasondavies.com/wordcloud/ to generate word cloud"
   ]
  },
  {
   "cell_type": "markdown",
   "metadata": {},
   "source": [
    "<img src='svg_output/ch14_fig6.png'></img>"
   ]
  }
 ],
 "metadata": {
  "kernelspec": {
   "display_name": "Python 3",
   "language": "python",
   "name": "python3"
  },
  "language_info": {
   "codemirror_mode": {
    "name": "ipython",
    "version": 3
   },
   "file_extension": ".py",
   "mimetype": "text/x-python",
   "name": "python",
   "nbconvert_exporter": "python",
   "pygments_lexer": "ipython3",
   "version": "3.5.1"
  }
 },
 "nbformat": 4,
 "nbformat_minor": 0
}
