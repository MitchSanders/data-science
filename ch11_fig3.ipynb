{
 "cells": [
  {
   "cell_type": "markdown",
   "metadata": {
    "collapsed": true
   },
   "source": [
    "### Ch11 Figure3"
   ]
  },
  {
   "cell_type": "code",
   "execution_count": 1,
   "metadata": {
    "collapsed": false
   },
   "outputs": [
    {
     "data": {
      "text/html": [
       "<div>\n",
       "<table border=\"1\" class=\"dataframe\">\n",
       "  <thead>\n",
       "    <tr style=\"text-align: right;\">\n",
       "      <th></th>\n",
       "      <th>id</th>\n",
       "      <th>travel-dest</th>\n",
       "      <th>spend</th>\n",
       "    </tr>\n",
       "  </thead>\n",
       "  <tbody>\n",
       "    <tr>\n",
       "      <th>0</th>\n",
       "      <td>0</td>\n",
       "      <td>US</td>\n",
       "      <td>77</td>\n",
       "    </tr>\n",
       "    <tr>\n",
       "      <th>1</th>\n",
       "      <td>1</td>\n",
       "      <td>MEXICO</td>\n",
       "      <td>26</td>\n",
       "    </tr>\n",
       "    <tr>\n",
       "      <th>2</th>\n",
       "      <td>2</td>\n",
       "      <td>CHINA</td>\n",
       "      <td>46</td>\n",
       "    </tr>\n",
       "    <tr>\n",
       "      <th>3</th>\n",
       "      <td>3</td>\n",
       "      <td>UK</td>\n",
       "      <td>54</td>\n",
       "    </tr>\n",
       "    <tr>\n",
       "      <th>4</th>\n",
       "      <td>4</td>\n",
       "      <td>SOUTH KOREA</td>\n",
       "      <td>52</td>\n",
       "    </tr>\n",
       "  </tbody>\n",
       "</table>\n",
       "</div>"
      ],
      "text/plain": [
       "   id  travel-dest  spend\n",
       "0   0           US     77\n",
       "1   1       MEXICO     26\n",
       "2   2        CHINA     46\n",
       "3   3           UK     54\n",
       "4   4  SOUTH KOREA     52"
      ]
     },
     "execution_count": 1,
     "metadata": {},
     "output_type": "execute_result"
    }
   ],
   "source": [
    "# maybe your data analyst created a report of where the customers were traveling out that a lot of your customers do travel internationally, but not enough to justify selling new products. So the team decides to drop it and explore other areas. Maybe next you’ll \n",
    "\n",
    "countries = ['NONE' ,'US', 'CHILE', 'CANADA', 'MEXICO', 'SPAIN', 'ITALY', 'CHINA', 'THAILAND', 'UK', 'TURKEY', 'SOUTH KOREA']\n",
    "\n",
    "data = []\n",
    "\n",
    "for i in range(5000):\n",
    "    country = countries[rd.randint(0,len(countries)-1)]\n",
    "    if country == 'NONE':\n",
    "        spend = rd.randint(60,1000)\n",
    "    else:\n",
    "        spend = rd.randint(20,100)\n",
    "    data.append([i, country, spend])\n",
    "\n",
    "df = pd.DataFrame(data, columns=['id', 'travel-dest', 'spend'])\n",
    "# df.to_csv('csv_output/ch11_fig4.csv', index=False)\n",
    "df = pd.read_csv('csv_output/ch11_fig4.csv')\n",
    "df.head()"
   ]
  },
  {
   "cell_type": "code",
   "execution_count": 2,
   "metadata": {
    "collapsed": false
   },
   "outputs": [
    {
     "data": {
      "image/png": "[encoded data removed]",
      "text/plain": [
       "<matplotlib.figure.Figure at 0xbc8f9e8>"
      ]
     },
     "metadata": {},
     "output_type": "display_data"
    }
   ],
   "source": [
    "countries = ['NONE' ,'US', 'CHILE', 'CANADA', 'MEXICO', 'SPAIN', 'ITALY', 'CHINA', 'THAILAND', 'UK', 'TURKEY', 'SOUTH KOREA']\n",
    "df = pd.read_csv('csv_output/ch11_fig4.csv')\n",
    "\n",
    "%matplotlib inline\n",
    "sns.set_style(\"whitegrid\")\n",
    "\n",
    "d1 = df.groupby('travel-dest').spend.sum().reset_index()\n",
    "d1 = d1.sort_values('spend', ascending=False)\n",
    "plt.bar(height=d1.iloc[1:].spend.sum(), left=0);\n",
    "plt.bar(height=d1.spend, left=np.arange(1,len(countries)+1));\n",
    "\n",
    "labels = ['TRAVELS']\n",
    "labels.extend(list(d1['travel-dest']))\n",
    "\n",
    "plt.xticks(np.arange(len(countries)+1)+.5,labels,rotation='vertical');\n",
    "plt.ylabel('total spend');\n",
    "plt.title('customer total spend by traveling destination');\n",
    "plt.xlim(0, len(countries)+1)\n",
    "\n",
    "plt.savefig('svg_output/ch11_fig4.svg', format='svg')"
   ]
  },
  {
   "cell_type": "markdown",
   "metadata": {
    "collapsed": true
   },
   "source": [
    "Total spend by customers that travel is greater than those that don't. However, comparing travel destination individually, total spend by each destination is way less than those that don't travel."
   ]
  }
 ],
 "metadata": {
  "kernelspec": {
   "display_name": "Python 3",
   "language": "python",
   "name": "python3"
  },
  "language_info": {
   "codemirror_mode": {
    "name": "ipython",
    "version": 3
   },
   "file_extension": ".py",
   "mimetype": "text/x-python",
   "name": "python",
   "nbconvert_exporter": "python",
   "pygments_lexer": "ipython3",
   "version": "3.5.1"
  }
 },
 "nbformat": 4,
 "nbformat_minor": 0
}
