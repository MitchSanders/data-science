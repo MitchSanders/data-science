{
 "cells": [
  {
   "cell_type": "markdown",
   "metadata": {
    "collapsed": true
   },
   "source": [
    "### Ch17 Figure2"
   ]
  },
  {
   "cell_type": "code",
   "execution_count": 2,
   "metadata": {
    "collapsed": false,
    "scrolled": true
   },
   "outputs": [
    {
     "data": {
      "text/html": [
       "<div>\n",
       "<table border=\"1\" class=\"dataframe\">\n",
       "  <thead>\n",
       "    <tr style=\"text-align: right;\">\n",
       "      <th></th>\n",
       "      <th>id</th>\n",
       "      <th>total-spend</th>\n",
       "      <th>payment-method</th>\n",
       "    </tr>\n",
       "  </thead>\n",
       "  <tbody>\n",
       "    <tr>\n",
       "      <th>0</th>\n",
       "      <td>0</td>\n",
       "      <td>134.05</td>\n",
       "      <td>credit card</td>\n",
       "    </tr>\n",
       "    <tr>\n",
       "      <th>1</th>\n",
       "      <td>1</td>\n",
       "      <td>149.24</td>\n",
       "      <td>credit card</td>\n",
       "    </tr>\n",
       "    <tr>\n",
       "      <th>2</th>\n",
       "      <td>2</td>\n",
       "      <td>175.54</td>\n",
       "      <td>credit card</td>\n",
       "    </tr>\n",
       "    <tr>\n",
       "      <th>3</th>\n",
       "      <td>3</td>\n",
       "      <td>100.93</td>\n",
       "      <td>credit card</td>\n",
       "    </tr>\n",
       "    <tr>\n",
       "      <th>4</th>\n",
       "      <td>4</td>\n",
       "      <td>148.32</td>\n",
       "      <td>credit card</td>\n",
       "    </tr>\n",
       "  </tbody>\n",
       "</table>\n",
       "</div>"
      ],
      "text/plain": [
       "   id  total-spend payment-method\n",
       "0   0       134.05    credit card\n",
       "1   1       149.24    credit card\n",
       "2   2       175.54    credit card\n",
       "3   3       100.93    credit card\n",
       "4   4       148.32    credit card"
      ]
     },
     "execution_count": 2,
     "metadata": {},
     "output_type": "execute_result"
    }
   ],
   "source": [
    "# As it turns out the manager was right. There was very strong evidence that this credit card was used mostly for larger purchases.\n",
    "\n",
    "data = []\n",
    "\n",
    "payment_methods = ['credit card', 'check', 'cash', 'paypal']\n",
    "\n",
    "for i in range(1000):\n",
    "    payment_metnod = payment_methods[0]\n",
    "    if rd.random() <= .6:\n",
    "        total_spend = rd.randint(100,200) + np.round(rd.random(),2)\n",
    "        if rd.random() <= .95:\n",
    "            payment_metnod = payment_methods[0]\n",
    "        else:\n",
    "            payment_metnod = payment_methods[rd.randint(1, 3)]\n",
    "    else:\n",
    "        total_spend = rd.randint(20,150) + np.round(rd.random(),2)\n",
    "        if rd.random() <= .2:\n",
    "            payment_method = payment_methods[rd.choice([2,3])]\n",
    "        elif rd.random() <= .05:\n",
    "            payment_method = payment_methods[1]\n",
    "        else:\n",
    "            payment_method = payment_methods[0]\n",
    "    \n",
    "    data.append([i, total_spend, payment_method])\n",
    "\n",
    "df = pd.DataFrame(data, columns=['id', 'total-spend', 'payment-method'])\n",
    "# df.to_csv('csv_output/ch17_fig2.csv', index=False)\n",
    "df = pd.read_csv('csv_output/ch17_fig2.csv')\n",
    "df.head()"
   ]
  },
  {
   "cell_type": "code",
   "execution_count": 3,
   "metadata": {
    "collapsed": false,
    "scrolled": false
   },
   "outputs": [
    {
     "data": {
      "image/png": "[encoded data removed]",
      "text/plain": [
       "<matplotlib.figure.Figure at 0xbe1db38>"
      ]
     },
     "metadata": {},
     "output_type": "display_data"
    }
   ],
   "source": [
    "df = pd.read_csv('csv_output/ch17_fig2.csv')\n",
    "payment_methods = ['credit card', 'cash', 'paypal', 'check']\n",
    "\n",
    "%matplotlib inline\n",
    "sns.set_style(\"white\")\n",
    "cm = sns.color_palette('Blues', 4)\n",
    "\n",
    "f, ax = plt.subplots(1,1, figsize=(8,8))\n",
    "dgb = df.groupby('payment-method')['total-spend'].agg(['mean', 'count'])\n",
    "\n",
    "i = 0\n",
    "new = True\n",
    "total = np.histogram(df['total-spend'], bins=np.arange(20,200,10))[0]\n",
    "for x in payment_methods:\n",
    "    \n",
    "    if new:\n",
    "        new = False\n",
    "        series = total - np.histogram(df[df['payment-method'] == x]['total-spend'], bins=np.arange(20,200,10))[0]\n",
    "    else:\n",
    "        series -= np.histogram(df[df['payment-method'] == x]['total-spend'], bins=np.arange(20,200,10))[0]\n",
    "    ax.bar(left= np.arange(17), height=series, color=cm[i])\n",
    "    i += 1\n",
    "\n",
    "ax.legend(payment_methods)\n",
    "ax.set_title('total-spend by payment method');\n",
    "ax.set_xticks(np.arange(17))\n",
    "ax.set_xticklabels(np.arange(20,200,10))\n",
    "ax.set_xlim(-.15,17)\n",
    "ax.set_xlabel('total-spend ($) bucket')\n",
    "ax.set_ylabel('transaction count')\n",
    "    \n",
    "f.savefig('svg_output/ch17_fig2.svg', format='svg')"
   ]
  },
  {
   "cell_type": "markdown",
   "metadata": {},
   "source": [
    "Looking at the count for each transaction value bucket, as the total amount trending higher, more transactions are paid by credit card, the second category is cash."
   ]
  }
 ],
 "metadata": {
  "kernelspec": {
   "display_name": "Python 3",
   "language": "python",
   "name": "python3"
  },
  "language_info": {
   "codemirror_mode": {
    "name": "ipython",
    "version": 3
   },
   "file_extension": ".py",
   "mimetype": "text/x-python",
   "name": "python",
   "nbconvert_exporter": "python",
   "pygments_lexer": "ipython3",
   "version": "3.5.1"
  }
 },
 "nbformat": 4,
 "nbformat_minor": 0
}
