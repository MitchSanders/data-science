{
 "cells": [
  {
   "cell_type": "markdown",
   "metadata": {
    "collapsed": true
   },
   "source": [
    "### Ch10 Figure2"
   ]
  },
  {
   "cell_type": "code",
   "execution_count": 1,
   "metadata": {
    "collapsed": false
   },
   "outputs": [
    {
     "data": {
      "text/html": [
       "<div>\n",
       "<table border=\"1\" class=\"dataframe\">\n",
       "  <thead>\n",
       "    <tr style=\"text-align: right;\">\n",
       "      <th></th>\n",
       "      <th>id</th>\n",
       "      <th>item</th>\n",
       "      <th>dollars</th>\n",
       "      <th>wkday</th>\n",
       "      <th>time</th>\n",
       "    </tr>\n",
       "  </thead>\n",
       "  <tbody>\n",
       "    <tr>\n",
       "      <th>0</th>\n",
       "      <td>0</td>\n",
       "      <td>cookware set</td>\n",
       "      <td>25.71</td>\n",
       "      <td>Sat</td>\n",
       "      <td>2</td>\n",
       "    </tr>\n",
       "    <tr>\n",
       "      <th>1</th>\n",
       "      <td>1</td>\n",
       "      <td>carpet</td>\n",
       "      <td>20.38</td>\n",
       "      <td>Mon</td>\n",
       "      <td>2</td>\n",
       "    </tr>\n",
       "    <tr>\n",
       "      <th>2</th>\n",
       "      <td>2</td>\n",
       "      <td>microwave</td>\n",
       "      <td>18.60</td>\n",
       "      <td>Fri</td>\n",
       "      <td>3</td>\n",
       "    </tr>\n",
       "    <tr>\n",
       "      <th>3</th>\n",
       "      <td>3</td>\n",
       "      <td>cookware set</td>\n",
       "      <td>65.93</td>\n",
       "      <td>Fri</td>\n",
       "      <td>1</td>\n",
       "    </tr>\n",
       "    <tr>\n",
       "      <th>4</th>\n",
       "      <td>4</td>\n",
       "      <td>fan</td>\n",
       "      <td>32.31</td>\n",
       "      <td>Sat</td>\n",
       "      <td>3</td>\n",
       "    </tr>\n",
       "  </tbody>\n",
       "</table>\n",
       "</div>"
      ],
      "text/plain": [
       "   id          item  dollars wkday  time\n",
       "0   0  cookware set    25.71   Sat     2\n",
       "1   1        carpet    20.38   Mon     2\n",
       "2   2     microwave    18.60   Fri     3\n",
       "3   3  cookware set    65.93   Fri     1\n",
       "4   4           fan    32.31   Sat     3"
      ]
     },
     "execution_count": 1,
     "metadata": {},
     "output_type": "execute_result"
    }
   ],
   "source": [
    "# That was exactly what happened with this team. They produced dozens of reports every few weeks with small uninteresting conclusions. They found that people who bought paint are more likely to buy in the morning. The people who made large purchases were more likely to buy an appliance. Customers who bought carpet are more likely to buy it on Friday.\n",
    "\n",
    "items = ['toaster', 'microwave', 'fan', 'cookware set', 'carpet', 'paint', 'decorations']\n",
    "wkdays = ['Sun','Mon', 'Tue', 'Wed', 'Thur', 'Fri', 'Sat']\n",
    "times = [0,1,2,3]\n",
    "data = []\n",
    "\n",
    "for i in range(1000):\n",
    "    item = items[rd.randint(0, len(items)-1)]\n",
    "    dollars = 10\n",
    "    wkday = wkdays[rd.randint(0,len(wkdays)-1)]\n",
    "    time = times[rd.randint(0,len(times)-1)]\n",
    "    \n",
    "    if item in items[:5]:\n",
    "        if item == 'cookware set':\n",
    "            dollars += 100*rd.random()\n",
    "        elif item == 'toaster':\n",
    "            dollars += 20*rd.random()\n",
    "        elif item == 'microwave':\n",
    "            dollars += 30*rd.random()\n",
    "        else:\n",
    "            dollars += 100*rd.random()\n",
    "    elif item == 'paint':\n",
    "        dollars += 10*rd.random()\n",
    "        if rd.random() <= .6:\n",
    "            time = times[0]\n",
    "    else:\n",
    "        dollars += 10*rd.random()\n",
    "        if rd.random() <= .4:\n",
    "            wkday = 5\n",
    "    data.append([i, item, round(dollars,2), wkday, time])\n",
    "\n",
    "df = pd.DataFrame(data, columns = ['id', 'item', 'dollars', 'wkday', 'time'])\n",
    "# df.to_csv('csv_output/ch10_fig2.csv', index=False)\n",
    "df = pd.read_csv('csv_output/ch10_fig2.csv')\n",
    "df.head()"
   ]
  },
  {
   "cell_type": "code",
   "execution_count": 15,
   "metadata": {
    "collapsed": false
   },
   "outputs": [],
   "source": [
    "items = ['toaster', 'microwave', 'fan', 'cookware set', 'carpet', 'paint', 'decorations']\n",
    "wkdays = ['Sun','Mon', 'Tue', 'Wed', 'Thur', 'Fri', 'Sat']\n",
    "times = [0,1,2,3]\n",
    "\n",
    "df = pd.read_csv('csv_output/ch10_fig2.csv')\n",
    "d2 = df.groupby(['item', 'wkday']).agg({'dollars': 'sum', 'time': 'mean'}).reset_index()\n",
    "\n",
    "from bokeh.models import HoverTool, ColumnDataSource\n",
    "from bokeh.plotting import figure, show\n",
    "from bokeh.sampledata.periodic_table import elements\n",
    "from bokeh.embed import components, autoload_static\n",
    "from bokeh.resources import CDN\n",
    "from bokeh.io import output_notebook\n",
    "\n",
    "source = ColumnDataSource(\n",
    "    data=dict(\n",
    "        item = [x for x in d2['item']],\n",
    "        days=[str(x) for x in d2['wkday']],\n",
    "        times=[str(x/2.11) for x in d2['time']],\n",
    "        count=[str(x/3169.57) for x in d2['dollars']],\n",
    "        count_color=[(0,0,x/400) for x in d2['dollars']]\n",
    "    )\n",
    ")\n",
    "\n",
    "p = figure(title=\"item count by days of the week and times of the day\", tools=\"save\",\n",
    "           x_range=[str(x) for x in wkdays], y_range=items)\n",
    "\n",
    "p.rect(x=\"days\", y=\"item\", width=0.9, height='count', source=source,\n",
    "       fill_alpha='times', color='blue');\n",
    "\n",
    "# un comment to show\n",
    "# output_notebook()\n",
    "# show(p) "
   ]
  },
  {
   "cell_type": "markdown",
   "metadata": {
    "collapsed": false
   },
   "source": [
    "![](svg_output/ch10_fig2.png)"
   ]
  },
  {
   "cell_type": "markdown",
   "metadata": {
    "collapsed": true
   },
   "source": [
    "The larger the square is the more dollars is spent at a given day of the week and item. The darker the color is, more sales are made in the later of the day. For paints and decorations, total value are quite small comparing to carpet or cookware or fan. Paints are mostly baught in the morning. Carpet has slightly higher sales value on Friday and cookware has slightly higher sales on Monday."
   ]
  }
 ],
 "metadata": {
  "kernelspec": {
   "display_name": "Python 3",
   "language": "python",
   "name": "python3"
  },
  "language_info": {
   "codemirror_mode": {
    "name": "ipython",
    "version": 3
   },
   "file_extension": ".py",
   "mimetype": "text/x-python",
   "name": "python",
   "nbconvert_exporter": "python",
   "pygments_lexer": "ipython3",
   "version": "3.5.1"
  }
 },
 "nbformat": 4,
 "nbformat_minor": 0
}
