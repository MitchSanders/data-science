{
 "cells": [
  {
   "cell_type": "markdown",
   "metadata": {
    "collapsed": true
   },
   "source": [
    "### Ch12 Figure6"
   ]
  },
  {
   "cell_type": "code",
   "execution_count": 1,
   "metadata": {
    "collapsed": false
   },
   "outputs": [
    {
     "data": {
      "text/html": [
       "<div>\n",
       "<table border=\"1\" class=\"dataframe\">\n",
       "  <thead>\n",
       "    <tr style=\"text-align: right;\">\n",
       "      <th></th>\n",
       "      <th>sku</th>\n",
       "      <th>sales</th>\n",
       "      <th>red</th>\n",
       "      <th>blue</th>\n",
       "      <th>white</th>\n",
       "      <th>black</th>\n",
       "      <th>green</th>\n",
       "      <th>orange</th>\n",
       "      <th>digital news platform</th>\n",
       "      <th>blog</th>\n",
       "      <th>youtube</th>\n",
       "      <th>magazine</th>\n",
       "      <th>gps</th>\n",
       "      <th>step-tracker</th>\n",
       "      <th>extra-light-material</th>\n",
       "    </tr>\n",
       "  </thead>\n",
       "  <tbody>\n",
       "    <tr>\n",
       "      <th>0</th>\n",
       "      <td>0</td>\n",
       "      <td>2324.697293</td>\n",
       "      <td>0</td>\n",
       "      <td>0</td>\n",
       "      <td>1</td>\n",
       "      <td>1</td>\n",
       "      <td>0</td>\n",
       "      <td>0</td>\n",
       "      <td>0</td>\n",
       "      <td>1</td>\n",
       "      <td>0</td>\n",
       "      <td>0</td>\n",
       "      <td>0</td>\n",
       "      <td>0</td>\n",
       "      <td>0</td>\n",
       "    </tr>\n",
       "    <tr>\n",
       "      <th>1</th>\n",
       "      <td>1</td>\n",
       "      <td>2376.396083</td>\n",
       "      <td>0</td>\n",
       "      <td>1</td>\n",
       "      <td>0</td>\n",
       "      <td>0</td>\n",
       "      <td>0</td>\n",
       "      <td>1</td>\n",
       "      <td>1</td>\n",
       "      <td>1</td>\n",
       "      <td>1</td>\n",
       "      <td>0</td>\n",
       "      <td>0</td>\n",
       "      <td>0</td>\n",
       "      <td>0</td>\n",
       "    </tr>\n",
       "    <tr>\n",
       "      <th>2</th>\n",
       "      <td>2</td>\n",
       "      <td>8358.150201</td>\n",
       "      <td>1</td>\n",
       "      <td>1</td>\n",
       "      <td>1</td>\n",
       "      <td>1</td>\n",
       "      <td>1</td>\n",
       "      <td>1</td>\n",
       "      <td>0</td>\n",
       "      <td>1</td>\n",
       "      <td>0</td>\n",
       "      <td>0</td>\n",
       "      <td>0</td>\n",
       "      <td>0</td>\n",
       "      <td>0</td>\n",
       "    </tr>\n",
       "    <tr>\n",
       "      <th>3</th>\n",
       "      <td>3</td>\n",
       "      <td>6231.947918</td>\n",
       "      <td>1</td>\n",
       "      <td>1</td>\n",
       "      <td>0</td>\n",
       "      <td>0</td>\n",
       "      <td>1</td>\n",
       "      <td>1</td>\n",
       "      <td>0</td>\n",
       "      <td>0</td>\n",
       "      <td>0</td>\n",
       "      <td>1</td>\n",
       "      <td>1</td>\n",
       "      <td>1</td>\n",
       "      <td>1</td>\n",
       "    </tr>\n",
       "    <tr>\n",
       "      <th>4</th>\n",
       "      <td>4</td>\n",
       "      <td>8019.105567</td>\n",
       "      <td>0</td>\n",
       "      <td>1</td>\n",
       "      <td>1</td>\n",
       "      <td>1</td>\n",
       "      <td>1</td>\n",
       "      <td>1</td>\n",
       "      <td>1</td>\n",
       "      <td>1</td>\n",
       "      <td>1</td>\n",
       "      <td>0</td>\n",
       "      <td>1</td>\n",
       "      <td>0</td>\n",
       "      <td>0</td>\n",
       "    </tr>\n",
       "  </tbody>\n",
       "</table>\n",
       "</div>"
      ],
      "text/plain": [
       "   sku        sales  red  blue  white  black  green  orange  \\\n",
       "0    0  2324.697293    0     0      1      1      0       0   \n",
       "1    1  2376.396083    0     1      0      0      0       1   \n",
       "2    2  8358.150201    1     1      1      1      1       1   \n",
       "3    3  6231.947918    1     1      0      0      1       1   \n",
       "4    4  8019.105567    0     1      1      1      1       1   \n",
       "\n",
       "   digital news platform  blog  youtube  magazine  gps  step-tracker  \\\n",
       "0                      0     1        0         0    0             0   \n",
       "1                      1     1        1         0    0             0   \n",
       "2                      0     1        0         0    0             0   \n",
       "3                      0     0        0         1    1             1   \n",
       "4                      1     1        1         0    1             0   \n",
       "\n",
       "   extra-light-material  \n",
       "0                     0  \n",
       "1                     0  \n",
       "2                     0  \n",
       "3                     1  \n",
       "4                     0  "
      ]
     },
     "execution_count": 1,
     "metadata": {},
     "output_type": "execute_result"
    }
   ],
   "source": [
    "# \"What about a shoe makes it a hit?” He or she works with the data analysts to come up with some interesting questions: Is it the color of the shoe?  Is it some new technology? Was the shoe featured in a magazine and benefited from a network effect?\n",
    "\n",
    "shoe_sku = np.arange(500)\n",
    "color = ['red', 'blue', 'white', 'black', 'green', 'orange']\n",
    "marketing_channel = ['digital news platform', 'blog', 'youtube', 'magazine']\n",
    "tech = ['gps', 'step-tracker', 'extra-light-material']\n",
    "\n",
    "data = []\n",
    "\n",
    "for i in shoe_sku:\n",
    "    \n",
    "    \n",
    "    sales = rd.random() * 10000\n",
    "    d = [i, sales]\n",
    "    \n",
    "    for j in [color, marketing_channel, tech]:\n",
    "        how_many = rd.randint(0, len(j))\n",
    "        ary = [0 for x in range(len(j))]\n",
    "        ary[:how_many] = [1 for j in range(how_many)]\n",
    "        rd.shuffle(ary)\n",
    "        d.extend(ary)\n",
    "    \n",
    "    data.append(d)\n",
    "    \n",
    "df = pd.DataFrame(data, columns=['sku', 'sales', 'red', 'blue', 'white', 'black', 'green', 'orange', 'digital news platform', 'blog', 'youtube', 'magazine', 'gps', 'step-tracker', 'extra-light-material'])\n",
    "# df.to_csv('csv_output/ch12_fig6.csv', index=False)\n",
    "df = pd.read_csv('csv_output/ch12_fig6.csv')\n",
    "df.head()"
   ]
  },
  {
   "cell_type": "code",
   "execution_count": 2,
   "metadata": {
    "collapsed": false
   },
   "outputs": [
    {
     "data": {
      "image/png": "[encoded data removed]",
      "text/plain": [
       "<matplotlib.figure.Figure at 0xbc23eb8>"
      ]
     },
     "metadata": {},
     "output_type": "display_data"
    }
   ],
   "source": [
    "df = pd.read_csv('csv_output/ch12_fig6.csv')\n",
    "\n",
    "%matplotlib inline\n",
    "sns.set_style(\"whitegrid\")\n",
    "\n",
    "f, ax = plt.subplots(1, figsize=(8,6))\n",
    "\n",
    "from sklearn import linear_model\n",
    "reg = linear_model.LinearRegression()\n",
    "reg.fit (df.iloc[:,2:], df.iloc[:,1])\n",
    "ax.barh(width=reg.coef_[::-1], bottom=[x for x in range(1,14)]);\n",
    "ax.barh(width=0, bottom=0, lw=0)\n",
    "\n",
    "ax.set_yticks(np.arange(1,14)+.5);\n",
    "ax.set_yticklabels(['', 'red', 'blue', 'white', 'black', 'green', 'orange', 'digital news platform', 'blog', 'youtube', 'magazine', 'gps', 'step-tracker', 'extra-light-material'][::-1]);\n",
    "\n",
    "ax.set_title('regression coefficient by variables');\n",
    "f.savefig('svg_output/ch12_fig6.svg', format='svg')"
   ]
  },
  {
   "cell_type": "markdown",
   "metadata": {
    "collapsed": true
   },
   "source": [
    "Using sales value as y variable and colors, marketing channels and technologies as x dummy variables, we can see the top selling products are most likely to have black but not white, orange also helps. It can be intepreted in this way- holding everything else to be the same, if it's advertised on digital news platform, it's likely to help its sales by 200 dollars versus blog will decrese close to 200 dollars."
   ]
  }
 ],
 "metadata": {
  "kernelspec": {
   "display_name": "Python 3",
   "language": "python",
   "name": "python3"
  },
  "language_info": {
   "codemirror_mode": {
    "name": "ipython",
    "version": 3
   },
   "file_extension": ".py",
   "mimetype": "text/x-python",
   "name": "python",
   "nbconvert_exporter": "python",
   "pygments_lexer": "ipython3",
   "version": "3.5.1"
  }
 },
 "nbformat": 4,
 "nbformat_minor": 0
}
