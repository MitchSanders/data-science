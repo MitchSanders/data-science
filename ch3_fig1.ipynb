{
 "cells": [
  {
   "cell_type": "markdown",
   "metadata": {},
   "source": [
    "### Ch3 Figure1"
   ]
  },
  {
   "cell_type": "code",
   "execution_count": 1,
   "metadata": {
    "collapsed": false
   },
   "outputs": [],
   "source": [
    "# What if their reports showed that customers are 2% more likely to click on a car if it's red. They could share that with car dealerships and generate new revenue.\n",
    "\n",
    "# generate random data\n",
    "data = []\n",
    "n_records = 1000\n",
    "\n",
    "# modified from http://adilmoujahid.com/posts/2014/07/twitter-analytics/\n",
    "\n",
    "from tweepy.streaming import StreamListener\n",
    "from tweepy import OAuthHandler\n",
    "from tweepy import Stream\n",
    "\n",
    "#Variables that contains the user credentials to access Twitter API \n",
    "access_token = \"your access_token\"\n",
    "access_token_secret = \"your access_token_secret\"\n",
    "consumer_key = \"your consumer_key\"\n",
    "consumer_secret = \"your consumer_secret\"\n",
    "\n",
    "#This is a basic listener that just prints received tweets to stdout.\n",
    "class StdOutListener(StreamListener):\n",
    "\n",
    "    def on_data(self, data):\n",
    "        \n",
    "        # append new feed to .json file\n",
    "        # press the square icon (interupt kernel) to stop\n",
    "        with open('csv_output/ch3_fig1_twitter.json', 'a') as f:\n",
    "            f.write(data)\n",
    "        \n",
    "        # print(data)\n",
    "        return True\n",
    "\n",
    "    def on_error(self, status):\n",
    "        print(status)\n",
    "\n",
    "#This handles Twitter authetification and the connection to Twitter Streaming API\n",
    "l = StdOutListener()\n",
    "auth = OAuthHandler(consumer_key, consumer_secret)\n",
    "auth.set_access_token(access_token, access_token_secret)\n",
    "stream = Stream(auth, l)\n",
    "\n",
    "#This line filter Twitter Streams to capture data by the keywords: 'python', 'javascript', 'ruby'\n",
    "stream.filter(track=['shoe', 'travel', 'eating'])"
   ]
  },
  {
   "cell_type": "code",
   "execution_count": 2,
   "metadata": {
    "collapsed": true
   },
   "outputs": [],
   "source": [
    "# read twitter data\n",
    "import json\n",
    "\n",
    "tweets_data = []\n",
    "tweets_file = open('csv_output/ch3_fig1_twitter.json', \"r\")\n",
    "for line in tweets_file:\n",
    "    try:\n",
    "        tweet = json.loads(line)\n",
    "        tweets_data.append(tweet)\n",
    "    except:\n",
    "        continue\n",
    "\n",
    "df = pd.DataFrame()\n",
    "df['text'] = list(map(lambda x: x['text'], tweets_data))\n",
    "df['country'] = list(map(lambda x: x['place']['country'] if x['place'] != None else None, tweets_data))"
   ]
  },
  {
   "cell_type": "code",
   "execution_count": 4,
   "metadata": {
    "collapsed": true
   },
   "outputs": [],
   "source": [
    "# example of unstructured data\n",
    "# > tweet\n",
    "# {'contributors': None,\n",
    "#  'coordinates': None,\n",
    "#  'created_at': 'Fri Jun 24 19:39:56 +0000 2016',\n",
    "#  'entities': {'hashtags': [{'indices': [65, 73], 'text': 'Memphis'},\n",
    "#    {'indices': [94, 101], 'text': 'Travel'},\n",
    "#    {'indices': [102, 112], 'text': 'Tennessee'},\n",
    "#    {'indices': [113, 122], 'text': 'MadeInTN'},\n",
    "#    {'indices': [123, 130], 'text': 'Foodie'}],\n",
    "#   'media': [{'display_url': 'pic.twitter.com/RTwtW9Auos',\n",
    "#     'expanded_url': 'http://twitter.com/MrScottEddy/status/746395633381081089/photo/1',\n",
    "#     'id': 746395574115540996,\n",
    "#     'id_str': '746395574115540996',\n",
    "#     'indices': [139, 140],\n",
    "#     'media_url': 'http://pbs.twimg.com/media/Clu60fEUoAQryaW.jpg',\n",
    "#     'media_url_https': 'https://pbs.twimg.com/media/Clu60fEUoAQryaW.jpg',\n",
    "#     'sizes': {'large': {'h': 768, 'resize': 'fit', 'w': 1024},\n",
    "#      'medium': {'h': 768, 'resize': 'fit', 'w': 1024},\n",
    "#      'small': {'h': 510, 'resize': 'fit', 'w': 680},\n",
    "#      'thumb': {'h': 150, 'resize': 'crop', 'w': 150}},\n",
    "#     'source_status_id': 746395633381081089,\n",
    "#     'source_status_id_str': '746395633381081089',\n",
    "#     'source_user_id': 22411342,\n",
    "#     'source_user_id_str': '22411342',\n",
    "#     'type': 'photo',\n",
    "#     'url': 'https://t.co/RTwtW9Auos'}],\n",
    "#   'symbols': [],\n",
    "#   'urls': [],\n",
    "#   'user_mentions': [{'id': 22411342,\n",
    "#     'id_str': '22411342',\n",
    "#     'indices': [3, 15],\n",
    "#     'name': 'Scott Eddy ✈',\n",
    "#     'screen_name': 'MrScottEddy'},\n",
    "# ..."
   ]
  },
  {
   "cell_type": "code",
   "execution_count": 3,
   "metadata": {
    "collapsed": false
   },
   "outputs": [
    {
     "data": {
      "image/png": "[encoded data removed]",
      "text/plain": [
       "<matplotlib.figure.Figure at 0xc53aeb8>"
      ]
     },
     "metadata": {},
     "output_type": "display_data"
    }
   ],
   "source": [
    "%matplotlib inline\n",
    "sns.set_style(\"whitegrid\")\n",
    "\n",
    "drawdf = pd.DataFrame([df[df['text'].str.contains('travel')].count().values[0],\n",
    "                       df[df['text'].str.contains('food')].count().values[0],\n",
    "                       df[df['text'].str.contains('shoe')].count().values[0]],\n",
    "                       index=['travel', 'food', 'shoe'], columns=['count'])\n",
    "f, ax = plt.subplots(1,1, figsize=(8,6))\n",
    "sns.barplot(y=drawdf['count'],x=['travel', 'food', 'shoe'], ax=ax);\n",
    "ax.set_title('Brand Followers Keyword Mention Count'); ax.set_ylabel('count');\n",
    "\n",
    "f.savefig('svg_output/ch3_fig1.svg', format='svg')"
   ]
  },
  {
   "cell_type": "code",
   "execution_count": 4,
   "metadata": {
    "collapsed": true
   },
   "outputs": [],
   "source": [
    "%load_ext rpy2.ipython"
   ]
  },
  {
   "cell_type": "code",
   "execution_count": 5,
   "metadata": {
    "collapsed": false
   },
   "outputs": [
    {
     "data": {
      "image/png": "[encoded data removed]"
     },
     "metadata": {},
     "output_type": "display_data"
    }
   ],
   "source": [
    "%%R\n",
    "require(jsonlite)\n",
    "require(dplyr)\n",
    "\n",
    "df <- stream_in(file('csv_output/ch3_fig1_twitter.json'))\n",
    "df$create_at_timestamp = strptime(df[,1], \"%a %b %d %H:%M:%S +0000 %Y\")\n",
    "df$has_travel = grepl('travel', df$text, ignore.case=TRUE)\n",
    "df$has_food = grepl('food', df$text, ignore.case=TRUE)\n",
    "df$has_shoe= grepl('shoe', df$text, ignore.case=TRUE)\n",
    "\n",
    "r1 <- aggregate(df$has_travel,\n",
    "                by=list(format(df$create_at_timestamp, \"%Y-%m-%d %H:%M\")),\n",
    "                sum)\n",
    "r2 <- aggregate(df$has_food,\n",
    "                by=list(format(df$create_at_timestamp, \"%Y-%m-%d %H:%M\")),\n",
    "                sum)\n",
    "r3 <- aggregate(df$has_shoe,\n",
    "                by=list(format(df$create_at_timestamp, \"%Y-%m-%d %H:%M\")),\n",
    "                sum)\n",
    "colnames(r1) = c('create_at', 'count')\n",
    "r1$mention='travel'\n",
    "colnames(r2) = c('create_at', 'count')\n",
    "r2$mention='food'\n",
    "colnames(r3) = c('create_at', 'count')\n",
    "r3$mention='shoe'\n",
    "df2=bind_rows(r1,r2,r3)\n",
    "\n",
    "require(ggplot2)\n",
    "ggplot(df2, aes(x=create_at, y=count, fill=mention)) + geom_bar(stat = \"identity\") + ggtitle('mention count over time by word mentioned') + theme_bw()  + theme(axis.text.x = element_text(angle = 30, hjust= 1))\n",
    "# ggsave(\"svg_output/ch3_fig1_R.svg\")"
   ]
  }
 ],
 "metadata": {
  "kernelspec": {
   "display_name": "Python 3",
   "language": "python",
   "name": "python3"
  },
  "language_info": {
   "codemirror_mode": {
    "name": "ipython",
    "version": 3
   },
   "file_extension": ".py",
   "mimetype": "text/x-python",
   "name": "python",
   "nbconvert_exporter": "python",
   "pygments_lexer": "ipython3",
   "version": "3.5.1"
  }
 },
 "nbformat": 4,
 "nbformat_minor": 0
}
