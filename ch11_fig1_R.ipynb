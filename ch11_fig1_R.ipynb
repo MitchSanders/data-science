{
 "cells": [
  {
   "cell_type": "markdown",
   "metadata": {
    "collapsed": true
   },
   "source": [
    "### Ch11 Figure1"
   ]
  },
  {
   "cell_type": "code",
   "execution_count": 1,
   "metadata": {
    "collapsed": true
   },
   "outputs": [],
   "source": [
    "%load_ext rpy2.ipython"
   ]
  },
  {
   "cell_type": "code",
   "execution_count": 2,
   "metadata": {
    "collapsed": false
   },
   "outputs": [
    {
     "data": {
      "image/png": "[encoded data removed]"
     },
     "metadata": {},
     "output_type": "display_data"
    }
   ],
   "source": [
    "%%R\n",
    "require(dplyr)\n",
    "\n",
    "df = read.csv('csv_output/ch11_fig1.csv')\n",
    "\n",
    "df$income.cut = df$income %>% cut(21, breaks=c(9:50)*1000, labels=FALSE)\n",
    "f = as.factor(df$income.cut)\n",
    "levels(f) <- c(10:50)*1000\n",
    "df$income = as.numeric(as.character(f))\n",
    "df$spend.cut = df$spend %>% cut(21, breaks=c(.5:40) * 10, labels=FALSE)\n",
    "f = as.factor(df$spend.cut)\n",
    "levels(f) <- c(.5:40) * 10\n",
    "df$spend = as.numeric(as.character(f))\n",
    "\n",
    "dgb = df %>% group_by(income, spend)\n",
    "df2 = summarize(dgb, count=n())\n",
    "\n",
    "require(ggplot2)\n",
    "p = ggplot(df2, aes(income, spend)) + geom_point(aes(colour = count), size=3) + scale_colour_gradient(low='lightgrey', high='steelblue') + theme_bw() + theme(panel.grid.major = element_blank(), panel.grid.minor = element_blank(), legend.position='left')\n",
    "ggExtra::ggMarginal(p, type = \"histogram\", bins=30)\n",
    "# ggsave(\"svg_output/ch11_fig3.svg\")"
   ]
  }
 ],
 "metadata": {
  "kernelspec": {
   "display_name": "Python 3",
   "language": "python",
   "name": "python3"
  },
  "language_info": {
   "codemirror_mode": {
    "name": "ipython",
    "version": 3
   },
   "file_extension": ".py",
   "mimetype": "text/x-python",
   "name": "python",
   "nbconvert_exporter": "python",
   "pygments_lexer": "ipython3",
   "version": "3.5.1"
  }
 },
 "nbformat": 4,
 "nbformat_minor": 0
}
