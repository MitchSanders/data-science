{
 "cells": [
  {
   "cell_type": "markdown",
   "metadata": {},
   "source": [
    "### Ch4 Figure2"
   ]
  },
  {
   "cell_type": "code",
   "execution_count": 1,
   "metadata": {
    "collapsed": true
   },
   "outputs": [],
   "source": [
    "# It turns out that there's a number of things that might decrease the probability of someone participating. If people have to fast the night before then they might be 30% less likely to participate. They also might be 20% less likely to participate if there are blood tests and needles.\n",
    "\n",
    "# one classical approach to view this type of problems is bayes net as below\n",
    "# And we assign joint probability for each node below"
   ]
  },
  {
   "cell_type": "markdown",
   "metadata": {
    "collapsed": true
   },
   "source": [
    "<!-- <img src=\"svg_output\\ch5_figure5.svg\" width=\"300\"> -->\n",
    "<img src=\"https://docs.google.com/drawings/d/1PNm9BhYJXPbtj98wG5Yf0iIqWlMS0N3bCu2RPPFRsh4/pub?w=329&h=337\" width=\"300\">\n",
    "\n",
    "Table 1. (Assume) 30% of people will be willing to the night prior.\n",
    "\n",
    "|p(F)|T|F|\n",
    "|-|-|\n",
    "||0.3|0.7|\n",
    "\n",
    "Table 2. (Assume) 40% of people will be willing to do blood test.\n",
    "\n",
    "|p(B)|T|F|\n",
    "|-|-|\n",
    "||0.4|0.6|\n",
    "\n",
    "\n",
    "Table 3. 30% likely if F is True, 20% likely if B is True.\n",
    "\n",
    "|(F, B)||(T,T)|(T,F)|(F,T)|(F,F)|\n",
    "|-|-|-|-|-|\n",
    "|p(T)|T|0.19|0.125|0.15|0.3|\n",
    "||F|0.81|0.875|0.85|0.7|\n",
    "\n",
    "Table 4. 10% not accurate if B is False, (assume) 15% accurate if F is False.\n",
    "\n",
    "|(F, B)||(T,T)|(T,F)|(F,T)|(F,F)|\n",
    "|-|-|-|-|-|\n",
    "|p(A)|T|0.7|0.6|0.4|0.39|\n",
    "||F|0.3|0.4|0.6|0.61|\n",
    "\n",
    "We can to use the probility given above to calculate probability such as\n",
    "\n",
    "\"Given a blood test, what's the probability of accurate result\":\n",
    "$$\n",
    "p(A|B) = \\frac {p(A,B)}{p(B)} \\\\\n",
    "p(A,B) = \\Sigma_Fp(F) p(B) p(A|F,B) = 0.3 \\times 0.4  \\times 0.7 + 0.7  \\times 0.4  \\times 0.4  \\\\\n",
    "p(B) = 0.4 \\\\\n",
    "p(A|B) = 0.12544/0.4 = 0.3136\n",
    "$$\n",
    "\n",
    "\"Given a blood test, what's the probability of trial\":\n",
    "$$\n",
    "p(T|B) = \\frac {p(T,B)}{p(B)} \\\\\n",
    "p(T,B) = \\Sigma_Fp(F) p(B) p(T|F,B) = 0.3 \\times 0.4  \\times 0.19 + 0.7  \\times 0.4  \\times 0.15  \\\\\n",
    "p(B) = 0.4 \\\\\n",
    "p(T|B) = 0.0648/0.4 = 0.162\n",
    "$$\n",
    "\n",
    "Suppose profit is a function of trial and accuracy, with these two probabilities, we can infer what the profit would look like, and compare with versus without blood test."
   ]
  }
 ],
 "metadata": {
  "kernelspec": {
   "display_name": "Python 3",
   "language": "python",
   "name": "python3"
  },
  "language_info": {
   "codemirror_mode": {
    "name": "ipython",
    "version": 3
   },
   "file_extension": ".py",
   "mimetype": "text/x-python",
   "name": "python",
   "nbconvert_exporter": "python",
   "pygments_lexer": "ipython3",
   "version": "3.5.1"
  }
 },
 "nbformat": 4,
 "nbformat_minor": 0
}
