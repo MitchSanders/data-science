{
 "cells": [
  {
   "cell_type": "markdown",
   "metadata": {
    "collapsed": true
   },
   "source": [
    "### Ch17 Figure3"
   ]
  },
  {
   "cell_type": "code",
   "execution_count": 1,
   "metadata": {
    "collapsed": false,
    "scrolled": true
   },
   "outputs": [
    {
     "data": {
      "text/html": [
       "<div>\n",
       "<table border=\"1\" class=\"dataframe\">\n",
       "  <thead>\n",
       "    <tr style=\"text-align: right;\">\n",
       "      <th></th>\n",
       "      <th>id</th>\n",
       "      <th>use_software</th>\n",
       "      <th>grade</th>\n",
       "    </tr>\n",
       "  </thead>\n",
       "  <tbody>\n",
       "    <tr>\n",
       "      <th>0</th>\n",
       "      <td>0</td>\n",
       "      <td>1</td>\n",
       "      <td>2</td>\n",
       "    </tr>\n",
       "    <tr>\n",
       "      <th>1</th>\n",
       "      <td>1</td>\n",
       "      <td>0</td>\n",
       "      <td>1</td>\n",
       "    </tr>\n",
       "    <tr>\n",
       "      <th>2</th>\n",
       "      <td>2</td>\n",
       "      <td>1</td>\n",
       "      <td>1</td>\n",
       "    </tr>\n",
       "    <tr>\n",
       "      <th>3</th>\n",
       "      <td>3</td>\n",
       "      <td>1</td>\n",
       "      <td>4</td>\n",
       "    </tr>\n",
       "    <tr>\n",
       "      <th>4</th>\n",
       "      <td>4</td>\n",
       "      <td>1</td>\n",
       "      <td>1</td>\n",
       "    </tr>\n",
       "  </tbody>\n",
       "</table>\n",
       "</div>"
      ],
      "text/plain": [
       "   id  use_software  grade\n",
       "0   0             1      2\n",
       "1   1             0      1\n",
       "2   2             1      1\n",
       "3   3             1      4\n",
       "4   4             1      1"
      ]
     },
     "execution_count": 1,
     "metadata": {},
     "output_type": "execute_result"
    }
   ],
   "source": [
    "# The data showed that when students used the software their scores would get better.\n",
    "\n",
    "data = []\n",
    "\n",
    "for i in range(5000):\n",
    "    \n",
    "    if rd.random() <= .6:\n",
    "        use_software = 1\n",
    "    else:\n",
    "        use_software = 0\n",
    "    \n",
    "    if use_software == 1:\n",
    "        if rd.random() <= .6:\n",
    "            grade = rd.randint(3,4)\n",
    "        else:\n",
    "            grade = rd.randint(1,2)\n",
    "    else:\n",
    "        if rd.random() <= .1:\n",
    "            grade = 4\n",
    "        else:\n",
    "            grade = rd.randint(1,3)\n",
    "    data.append([i, use_software, grade])\n",
    "\n",
    "df = pd.DataFrame(data, columns=['id', 'use_software', 'grade'])\n",
    "# df.to_csv('csv_output/ch17_fig3.csv', index=False)\n",
    "df = pd.read_csv('csv_output/ch17_fig3.csv')\n",
    "df.head()"
   ]
  },
  {
   "cell_type": "code",
   "execution_count": 2,
   "metadata": {
    "collapsed": false
   },
   "outputs": [
    {
     "data": {
      "image/png": "[encoded data removed]",
      "text/plain": [
       "<matplotlib.figure.Figure at 0xbe8ec88>"
      ]
     },
     "metadata": {},
     "output_type": "display_data"
    }
   ],
   "source": [
    "df = pd.read_csv('csv_output/ch17_fig3.csv')\n",
    "\n",
    "%matplotlib inline\n",
    "sns.set_style(\"white\")\n",
    "cm = sns.color_palette('Blues', 2)\n",
    "\n",
    "f, ax = plt.subplots(1,1, figsize=(8,8))\n",
    "\n",
    "dgb = df.groupby(['use_software', 'grade']).count().reset_index()\n",
    "total = np.bincount(df['grade'])[1:]\n",
    "ax.bar(left= np.arange(4), height=total, color=cm[0]);\n",
    "series = total - dgb[dgb['use_software'] == 1]['id'].values\n",
    "ax.bar(left= np.arange(4), height=series, color=cm[1]);\n",
    "\n",
    "ax.legend(['use-software', 'no-software']);\n",
    "ax.set_title('grade distribution (use software versus no software)')\n",
    "ax.set_xticks(np.arange(4)+.5);\n",
    "ax.set_xticklabels(['D','C','B','A']);\n",
    "ax.set_ylabel('student count')\n",
    "\n",
    "f.savefig('svg_output/ch17_fig3.svg', format='svg')"
   ]
  },
  {
   "cell_type": "markdown",
   "metadata": {},
   "source": [
    "Looking at the total distribution, most students got B, and least students got A. However, if we look at student using-software versus not, for students that receive C or D, it's almost 50-50 chance, but for those that receive B and especially A, more of them used software."
   ]
  }
 ],
 "metadata": {
  "kernelspec": {
   "display_name": "Python 3",
   "language": "python",
   "name": "python3"
  },
  "language_info": {
   "codemirror_mode": {
    "name": "ipython",
    "version": 3
   },
   "file_extension": ".py",
   "mimetype": "text/x-python",
   "name": "python",
   "nbconvert_exporter": "python",
   "pygments_lexer": "ipython3",
   "version": "3.5.1"
  }
 },
 "nbformat": 4,
 "nbformat_minor": 0
}
