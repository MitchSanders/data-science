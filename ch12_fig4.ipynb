{
 "cells": [
  {
   "cell_type": "markdown",
   "metadata": {
    "collapsed": true
   },
   "source": [
    "### Ch12 Figure4"
   ]
  },
  {
   "cell_type": "code",
   "execution_count": 1,
   "metadata": {
    "collapsed": false
   },
   "outputs": [
    {
     "data": {
      "text/html": [
       "<div>\n",
       "<table border=\"1\" class=\"dataframe\">\n",
       "  <thead>\n",
       "    <tr style=\"text-align: right;\">\n",
       "      <th></th>\n",
       "      <th>Yourself</th>\n",
       "      <th>Partner</th>\n",
       "      <th>Neighbor</th>\n",
       "      <th>Friends</th>\n",
       "      <th>Kids</th>\n",
       "      <th>id</th>\n",
       "    </tr>\n",
       "  </thead>\n",
       "  <tbody>\n",
       "    <tr>\n",
       "      <th>0</th>\n",
       "      <td>0</td>\n",
       "      <td>1</td>\n",
       "      <td>0</td>\n",
       "      <td>0</td>\n",
       "      <td>0</td>\n",
       "      <td>0</td>\n",
       "    </tr>\n",
       "    <tr>\n",
       "      <th>1</th>\n",
       "      <td>0</td>\n",
       "      <td>1</td>\n",
       "      <td>0</td>\n",
       "      <td>0</td>\n",
       "      <td>0</td>\n",
       "      <td>1</td>\n",
       "    </tr>\n",
       "    <tr>\n",
       "      <th>2</th>\n",
       "      <td>1</td>\n",
       "      <td>1</td>\n",
       "      <td>1</td>\n",
       "      <td>1</td>\n",
       "      <td>1</td>\n",
       "      <td>2</td>\n",
       "    </tr>\n",
       "    <tr>\n",
       "      <th>3</th>\n",
       "      <td>0</td>\n",
       "      <td>1</td>\n",
       "      <td>1</td>\n",
       "      <td>0</td>\n",
       "      <td>0</td>\n",
       "      <td>3</td>\n",
       "    </tr>\n",
       "    <tr>\n",
       "      <th>4</th>\n",
       "      <td>1</td>\n",
       "      <td>1</td>\n",
       "      <td>0</td>\n",
       "      <td>1</td>\n",
       "      <td>1</td>\n",
       "      <td>4</td>\n",
       "    </tr>\n",
       "  </tbody>\n",
       "</table>\n",
       "</div>"
      ],
      "text/plain": [
       "   Yourself  Partner  Neighbor  Friends  Kids  id\n",
       "0         0        1         0        0     0   0\n",
       "1         0        1         0        0     0   1\n",
       "2         1        1         1        1     1   2\n",
       "3         0        1         1        0     0   3\n",
       "4         1        1         0        1     1   4"
      ]
     },
     "execution_count": 1,
     "metadata": {},
     "output_type": "execute_result"
    }
   ],
   "source": [
    "# Maybe the data suggests that most of your customers run with partners. \n",
    "\n",
    "who_do_you_run_with = ['Yourself', 'Partner', 'Neighbor', 'Friends', 'Kids']\n",
    "\n",
    "data = []\n",
    "\n",
    "for i in range(1000):\n",
    "    ary = [0 for k in range(len(who_do_you_run_with))]\n",
    "    how_many = rd.randint(1, len(who_do_you_run_with))\n",
    "    ary[:how_many] = [1 for j in range(how_many)]\n",
    "    rd.shuffle(ary)\n",
    "    ary.append(i)\n",
    "    data.append(ary)\n",
    "    \n",
    "df = pd.DataFrame(data, columns=['Yourself', 'Partner', 'Neighbor', 'Friends', 'Kids', 'id'])\n",
    "# df.to_csv('csv_output/ch12_fig4.csv', index=False)\n",
    "df = pd.read_csv('csv_output/ch12_fig4.csv')\n",
    "df.head()"
   ]
  },
  {
   "cell_type": "code",
   "execution_count": 2,
   "metadata": {
    "collapsed": false
   },
   "outputs": [
    {
     "data": {
      "image/png": "[encoded data removed]",
      "text/plain": [
       "<matplotlib.figure.Figure at 0xba477f0>"
      ]
     },
     "metadata": {},
     "output_type": "display_data"
    }
   ],
   "source": [
    "df = pd.read_csv('csv_output/ch12_fig4.csv')\n",
    "types = ['Yourself', 'Partner', 'Neighbor', 'Friends', 'Kids']\n",
    "cm = sns.color_palette(\"husl\", 8)\n",
    "cm_types = {'Yourself':0, 'Partner':1, 'Neighbor':3, 'Friends':5, 'Kids':6}\n",
    "\n",
    "%matplotlib inline\n",
    "sns.set_style(\"whitegrid\")\n",
    "\n",
    "f, ax = plt.subplots(1, figsize=(8,6))\n",
    "\n",
    "labels = []\n",
    "i = 0\n",
    "for j in range(5):\n",
    "    d = df[df[types[j]] == 1].iloc[:,:-1].sum().sort_values()\n",
    "    ax.barh(width=d, bottom=np.arange(5)+(5*j)+i, color=[cm[cm_types[k]] for k in d.index]);\n",
    "    labels.extend(d.index)\n",
    "    labels.append('')\n",
    "    i += 1\n",
    "\n",
    "ax.set_yticks(np.arange(len(labels)-1)+.5)\n",
    "ax.set_yticklabels(labels);\n",
    "\n",
    "f.savefig('svg_output/ch12_fig4.svg', format='svg')"
   ]
  },
  {
   "cell_type": "markdown",
   "metadata": {
    "collapsed": true
   },
   "source": [
    "Say we send out surveys each quarter, and people can select multiple who they run with. The first bar is the tally for each type and below is the people within those group that also run with other type of people. For example, people that run on their own sometimes also run with their neighbor and people that run with their kids most likely will otherwise run on their own."
   ]
  }
 ],
 "metadata": {
  "kernelspec": {
   "display_name": "Python 3",
   "language": "python",
   "name": "python3"
  },
  "language_info": {
   "codemirror_mode": {
    "name": "ipython",
    "version": 3
   },
   "file_extension": ".py",
   "mimetype": "text/x-python",
   "name": "python",
   "nbconvert_exporter": "python",
   "pygments_lexer": "ipython3",
   "version": "3.5.1"
  }
 },
 "nbformat": 4,
 "nbformat_minor": 0
}
