{
 "cells": [
  {
   "cell_type": "markdown",
   "metadata": {
    "collapsed": true
   },
   "source": [
    "### Ch17 Figure4"
   ]
  },
  {
   "cell_type": "code",
   "execution_count": 1,
   "metadata": {
    "collapsed": false,
    "scrolled": true
   },
   "outputs": [
    {
     "data": {
      "text/html": [
       "<div>\n",
       "<table border=\"1\" class=\"dataframe\">\n",
       "  <thead>\n",
       "    <tr style=\"text-align: right;\">\n",
       "      <th></th>\n",
       "      <th>id</th>\n",
       "      <th>setting</th>\n",
       "    </tr>\n",
       "  </thead>\n",
       "  <tbody>\n",
       "    <tr>\n",
       "      <th>0</th>\n",
       "      <td>0</td>\n",
       "      <td>studying</td>\n",
       "    </tr>\n",
       "    <tr>\n",
       "      <th>1</th>\n",
       "      <td>1</td>\n",
       "      <td>watching TV</td>\n",
       "    </tr>\n",
       "    <tr>\n",
       "      <th>2</th>\n",
       "      <td>2</td>\n",
       "      <td>shopping</td>\n",
       "    </tr>\n",
       "    <tr>\n",
       "      <th>3</th>\n",
       "      <td>3</td>\n",
       "      <td>waiting for bus</td>\n",
       "    </tr>\n",
       "    <tr>\n",
       "      <th>4</th>\n",
       "      <td>4</td>\n",
       "      <td>working</td>\n",
       "    </tr>\n",
       "  </tbody>\n",
       "</table>\n",
       "</div>"
      ],
      "text/plain": [
       "   id          setting\n",
       "0   0         studying\n",
       "1   1      watching TV\n",
       "2   2         shopping\n",
       "3   3  waiting for bus\n",
       "4   4          working"
      ]
     },
     "execution_count": 1,
     "metadata": {},
     "output_type": "execute_result"
    }
   ],
   "source": [
    "# Let's say the study comes out that says that 20% of the texts you receive come from people who are driving.\n",
    "\n",
    "data = []\n",
    "settings = ['driving', 'working', 'before sleep', 'dining', 'studying', 'walking', 'watching TV', 'waiting for bus', 'shopping']\n",
    "\n",
    "for i in range(5000):\n",
    "    \n",
    "    if rd.random() <= .2:\n",
    "        setting = 'driving'\n",
    "    elif rd.random() <= .5:\n",
    "        setting = settings[rd.randint(1,len(settings)-4)]\n",
    "    else:\n",
    "        setting = settings[rd.randint(len(settings)-4, len(settings)-1)]\n",
    "    data.append([i, setting])\n",
    "\n",
    "df = pd.DataFrame(data, columns=['id', 'setting'])\n",
    "# df.to_csv('csv_output/ch17_fig4.csv', index=False)\n",
    "df = pd.read_csv('csv_output/ch17_fig4.csv')\n",
    "df.head()"
   ]
  },
  {
   "cell_type": "code",
   "execution_count": 2,
   "metadata": {
    "collapsed": false
   },
   "outputs": [
    {
     "data": {
      "image/png": "[encoded data removed]",
      "text/plain": [
       "<matplotlib.figure.Figure at 0xbc952e8>"
      ]
     },
     "metadata": {},
     "output_type": "display_data"
    }
   ],
   "source": [
    "df = pd.read_csv('csv_output/ch17_fig4.csv')\n",
    "\n",
    "%matplotlib inline\n",
    "sns.set_style(\"white\")\n",
    "cm = sns.color_palette('Blues', 1)\n",
    "\n",
    "f, ax = plt.subplots(1,1, figsize=(8,8))\n",
    "\n",
    "dgb = df.groupby('setting').id.count().reset_index().sort_values('id', ascending=False)\n",
    "ax.bar(left= np.arange(dgb.shape[0]), height=dgb.id/5000, color=cm[0]);\n",
    "\n",
    "ax.set_title('Things you do when you text')\n",
    "ax.set_xticks(np.arange(dgb.shape[0])+.2);\n",
    "ax.set_xticklabels(dgb.setting, rotation=45);\n",
    "ax.set_yticklabels(['%i%%'%(x*100) for x in np.arange(0,.25,.05)])\n",
    "ax.set_ylabel('percentage');\n",
    "\n",
    "f.savefig('svg_output/ch17_fig4.svg', format='svg')"
   ]
  },
  {
   "cell_type": "markdown",
   "metadata": {},
   "source": [
    "Based on the study, almost 20% of people texting while driving, the second highest activity when texting is walking."
   ]
  }
 ],
 "metadata": {
  "kernelspec": {
   "display_name": "Python 3",
   "language": "python",
   "name": "python3"
  },
  "language_info": {
   "codemirror_mode": {
    "name": "ipython",
    "version": 3
   },
   "file_extension": ".py",
   "mimetype": "text/x-python",
   "name": "python",
   "nbconvert_exporter": "python",
   "pygments_lexer": "ipython3",
   "version": "3.5.1"
  }
 },
 "nbformat": 4,
 "nbformat_minor": 0
}
