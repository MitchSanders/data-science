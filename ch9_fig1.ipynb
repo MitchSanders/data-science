{
 "cells": [
  {
   "cell_type": "markdown",
   "metadata": {},
   "source": [
    "### Ch9 Figure1"
   ]
  },
  {
   "cell_type": "code",
   "execution_count": 1,
   "metadata": {
    "collapsed": false
   },
   "outputs": [
    {
     "data": {
      "text/html": [
       "<div>\n",
       "<table border=\"1\" class=\"dataframe\">\n",
       "  <thead>\n",
       "    <tr style=\"text-align: right;\">\n",
       "      <th></th>\n",
       "      <th>id</th>\n",
       "      <th>breaks-per-day</th>\n",
       "      <th>has-cancer</th>\n",
       "    </tr>\n",
       "  </thead>\n",
       "  <tbody>\n",
       "    <tr>\n",
       "      <th>0</th>\n",
       "      <td>0</td>\n",
       "      <td>2</td>\n",
       "      <td>Y</td>\n",
       "    </tr>\n",
       "    <tr>\n",
       "      <th>1</th>\n",
       "      <td>1</td>\n",
       "      <td>2</td>\n",
       "      <td>Y</td>\n",
       "    </tr>\n",
       "    <tr>\n",
       "      <th>2</th>\n",
       "      <td>2</td>\n",
       "      <td>2</td>\n",
       "      <td>Y</td>\n",
       "    </tr>\n",
       "    <tr>\n",
       "      <th>3</th>\n",
       "      <td>3</td>\n",
       "      <td>2</td>\n",
       "      <td>N</td>\n",
       "    </tr>\n",
       "    <tr>\n",
       "      <th>4</th>\n",
       "      <td>4</td>\n",
       "      <td>2</td>\n",
       "      <td>Y</td>\n",
       "    </tr>\n",
       "  </tbody>\n",
       "</table>\n",
       "</div>"
      ],
      "text/plain": [
       "   id  breaks-per-day has-cancer\n",
       "0   0               2          Y\n",
       "1   1               2          Y\n",
       "2   2               2          Y\n",
       "3   3               2          N\n",
       "4   4               2          Y"
      ]
     },
     "execution_count": 1,
     "metadata": {},
     "output_type": "execute_result"
    }
   ],
   "source": [
    "# According to this study of 36,000 workers, those who reported taking several ten-minute breaks were 41% more likely to develop cancer over the next five years. Those who didn’t take these breaks were much healthier.\n",
    "\n",
    "data = []\n",
    "\n",
    "for i in range(36000):\n",
    "    \n",
    "    if rd.random() <= .05:\n",
    "        breaks = rd.choice([3,4,5])\n",
    "    else:\n",
    "#         breaks = rd.randint(0,2)\n",
    "        breaks = 2\n",
    "    if breaks >= 3:\n",
    "        if rd.random() >= .41:\n",
    "            if rd.random() >= .35:\n",
    "                cancer = 'Y'\n",
    "            else:\n",
    "                cancer = 'N'\n",
    "        else:\n",
    "            if rd.random() <= .2:\n",
    "                cancer = 'N'\n",
    "            else:\n",
    "                cancer = 'Y'\n",
    "    else:\n",
    "        if rd.random()>=.48:\n",
    "            cancer = 'Y'\n",
    "        else:\n",
    "            cancer = 'N'\n",
    "    data.append([i, breaks, cancer])\n",
    "\n",
    "df = pd.DataFrame(data, columns = ['id', 'breaks-per-day', 'has-cancer'])\n",
    "# df.to_csv('csv_output/ch9_fig1.csv', index=False)\n",
    "df = pd.read_csv('csv_output/ch9_fig1.csv')\n",
    "df.head()        "
   ]
  },
  {
   "cell_type": "code",
   "execution_count": 2,
   "metadata": {
    "collapsed": false
   },
   "outputs": [
    {
     "name": "stdout",
     "output_type": "stream",
     "text": [
      "For people who take 3 or more breaks per day, they are 43.75% more likely to have cancer versus those who take 2 or less is only 4.60% but represent 95.09% of population\n"
     ]
    },
    {
     "data": {
      "image/png": "[encoded data removed]",
      "text/plain": [
       "<matplotlib.figure.Figure at 0xc194278>"
      ]
     },
     "metadata": {},
     "output_type": "display_data"
    }
   ],
   "source": [
    "df = pd.read_csv('csv_output/ch9_fig1.csv')\n",
    "\n",
    "%matplotlib inline\n",
    "sns.set_style(\"whitegrid\")\n",
    "\n",
    "f, ax = plt.subplots(2,2, figsize=(9,6))\n",
    "ax1 = plt.subplot2grid((2,2),(0,1), rowspan=2)\n",
    "\n",
    "ds = df.groupby(['has-cancer', 'breaks-per-day']).id.count()\n",
    "ds1 = ds['Y'].reset_index()\n",
    "ds2 = ds['N'].reset_index()\n",
    "\n",
    "g = sns.barplot(x='breaks-per-day', y='id', data=ds1, ax=ax[0][0], color='cornflowerblue');\n",
    "g2 = sns.barplot(x='breaks-per-day', y='id', data=ds2, ax=ax[1][0], color='lightblue');\n",
    "g.figure.get_axes()[0].set_yscale('log')\n",
    "g2.figure.get_axes()[1].set_yscale('log')\n",
    "\n",
    "ax1.bar(left=0, height=ds1[ds1['breaks-per-day']>=3].id.sum(), color='cornflowerblue')\n",
    "ax1.bar(left=1, height=ds2[ds2['breaks-per-day']>=3].id.sum(), color='lightblue')\n",
    "\n",
    "# ax1.bar(left=0, height=ds1[ds1['breaks-per-day']<3].id.sum(), color='cornflowerblue')\n",
    "# ax1.bar(left=1, height=ds2[ds2['breaks-per-day']<3].id.sum(), color='lightblue')\n",
    "\n",
    "ax[0][0].set_ylabel('total')\n",
    "ax[1][0].set_ylabel('total')\n",
    "ax1.set_ylabel('total')\n",
    "\n",
    "ax[0][0].set_title('has cancer')\n",
    "ax[1][0].set_title('don\\'t have cancer')\n",
    "ax1.set_title('take 3+ breaks per day (cancer vs no cancer)')\n",
    "\n",
    "ax1.set_xticks([0.5,1.5])\n",
    "ax1.set_xticklabels(['>=3 breaks\\n cancer', '>=3 breaks\\n no cancer'])\n",
    "\n",
    "x=ds1[ds1['breaks-per-day']>=3].id.sum()\n",
    "y=ds2[ds2['breaks-per-day']>=3].id.sum()\n",
    "r1 = (x/(x+y)) - (y/(x+y))\n",
    "x=ds1[ds1['breaks-per-day']<3].id.sum()\n",
    "y=ds2[ds2['breaks-per-day']<3].id.sum()\n",
    "r2 = (x/(x+y)) - (y/(x+y))\n",
    "\n",
    "r3 = (x+y)/36000\n",
    "\n",
    "\n",
    "print ('For people who take 3 or more breaks per day, they are %.2f%% more likely to have cancer versus those who take 2 or less is only %.2f%% but represent %.2f%% of population' %(r1*100, r2*100, r3*100))\n",
    "\n",
    "f.tight_layout()\n",
    "f.savefig('svg_output/ch9_fig1.svg', format='svg')"
   ]
  },
  {
   "cell_type": "markdown",
   "metadata": {},
   "source": [
    "Most of the people take 2 ten-minute breaks per day, but if we only look at those that take 3 or more breaks per day, they are indeed about 43% more likely to have cancer. However, 95.1% of people only take 2 breaks per day."
   ]
  },
  {
   "cell_type": "code",
   "execution_count": 3,
   "metadata": {
    "collapsed": true
   },
   "outputs": [],
   "source": [
    "%load_ext rpy2.ipython"
   ]
  },
  {
   "cell_type": "code",
   "execution_count": 4,
   "metadata": {
    "collapsed": false
   },
   "outputs": [
    {
     "data": {
      "image/png": "[encoded data removed]"
     },
     "metadata": {},
     "output_type": "display_data"
    }
   ],
   "source": [
    "%%R -w 480 -h 300 -u px\n",
    "require(dplyr)\n",
    "df = read.csv('csv_output/ch9_fig1.csv')\n",
    "dgb = df %>% group_by(breaks.per.day, has.cancer)\n",
    "df2 = summarize(dgb, count=n())\n",
    "\n",
    "require(ggplot2)\n",
    "ggplot(df2, aes(x=breaks.per.day, y=count, fill=has.cancer)) + geom_bar(stat = \"identity\") + scale_y_log10() + ggtitle('count by breaks per day and \\n has cancer versus no cancer') + theme_bw()\n",
    "# ggsave(\"svg_output/ch9_fig1_R.svg\")"
   ]
  }
 ],
 "metadata": {
  "kernelspec": {
   "display_name": "Python 3",
   "language": "python",
   "name": "python3"
  },
  "language_info": {
   "codemirror_mode": {
    "name": "ipython",
    "version": 3
   },
   "file_extension": ".py",
   "mimetype": "text/x-python",
   "name": "python",
   "nbconvert_exporter": "python",
   "pygments_lexer": "ipython3",
   "version": "3.5.1"
  }
 },
 "nbformat": 4,
 "nbformat_minor": 0
}
