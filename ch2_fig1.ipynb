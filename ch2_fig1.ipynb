{
 "cells": [
  {
   "cell_type": "markdown",
   "metadata": {},
   "source": [
    "### Ch2 Figure1"
   ]
  },
  {
   "cell_type": "code",
   "execution_count": 1,
   "metadata": {
    "collapsed": false
   },
   "outputs": [
    {
     "data": {
      "text/html": [
       "<div>\n",
       "<table border=\"1\" class=\"dataframe\">\n",
       "  <thead>\n",
       "    <tr style=\"text-align: right;\">\n",
       "      <th></th>\n",
       "      <th>id</th>\n",
       "      <th>timestamp</th>\n",
       "      <th>shoe-type</th>\n",
       "      <th>color</th>\n",
       "      <th>state</th>\n",
       "    </tr>\n",
       "  </thead>\n",
       "  <tbody>\n",
       "    <tr>\n",
       "      <th>0</th>\n",
       "      <td>0</td>\n",
       "      <td>2009-03-25 05:05:40</td>\n",
       "      <td>oxfords</td>\n",
       "      <td>6</td>\n",
       "      <td>UT</td>\n",
       "    </tr>\n",
       "    <tr>\n",
       "      <th>1</th>\n",
       "      <td>1</td>\n",
       "      <td>2009-03-14 18:04:11</td>\n",
       "      <td>loafers</td>\n",
       "      <td>4</td>\n",
       "      <td>AS</td>\n",
       "    </tr>\n",
       "    <tr>\n",
       "      <th>2</th>\n",
       "      <td>2</td>\n",
       "      <td>2009-03-11 17:06:29</td>\n",
       "      <td>oxfords</td>\n",
       "      <td>8</td>\n",
       "      <td>FL</td>\n",
       "    </tr>\n",
       "    <tr>\n",
       "      <th>3</th>\n",
       "      <td>3</td>\n",
       "      <td>2009-03-15 07:18:42</td>\n",
       "      <td>oxfords</td>\n",
       "      <td>9</td>\n",
       "      <td>MS</td>\n",
       "    </tr>\n",
       "    <tr>\n",
       "      <th>4</th>\n",
       "      <td>4</td>\n",
       "      <td>2009-03-20 06:56:17</td>\n",
       "      <td>slippers</td>\n",
       "      <td>3</td>\n",
       "      <td>DC</td>\n",
       "    </tr>\n",
       "  </tbody>\n",
       "</table>\n",
       "</div>"
      ],
      "text/plain": [
       "   id            timestamp shoe-type  color state\n",
       "0   0  2009-03-25 05:05:40   oxfords      6    UT\n",
       "1   1  2009-03-14 18:04:11   loafers      4    AS\n",
       "2   2  2009-03-11 17:06:29   oxfords      8    FL\n",
       "3   3  2009-03-15 07:18:42   oxfords      9    MS\n",
       "4   4  2009-03-20 06:56:17  slippers      3    DC"
      ]
     },
     "execution_count": 1,
     "metadata": {},
     "output_type": "execute_result"
    }
   ],
   "source": [
    "# You might have a data analyst create a report to see if there's any connection between a customer’s address and the types of shoes they buy. You might find that people in warmer areas are more likely to buy brightly colored shoes.\n",
    "\n",
    "# generate random data\n",
    "shoes_type = ['lightweight trainer', 'cross-trainer', 'trail', 'stability', 'cushioned stability', 'neutral', 'motion control', 'walking', 'racing']\n",
    "colors = np.arange(10)\n",
    "states = ['NA', 'MS', 'GA', 'AL', 'MT', 'VT', 'OK', 'UT', 'IA', 'FL', 'MP', 'PR', 'WY', 'RI', 'MO', 'MN', 'WA', 'IN', 'MA', 'MI', 'PA', 'KS', 'WV', 'LA', 'CO', 'NJ', 'GU', 'VA', 'WI', 'AK', 'OH', 'MD', 'CA', 'TN', 'NC', 'DC', 'HI', 'AZ', 'AR', 'ID', 'NV', 'NE', 'ND', 'CT', 'DE', 'VI', 'TX', 'ME', 'OR', 'NH', 'SC', 'SD', 'AS', 'IL', 'KY', 'NM', 'NY']\n",
    "data = []\n",
    "n_records = 1000\n",
    "\n",
    "for i in range(n_records):\n",
    "    rd_state = rd.randint(0, len(states)-1)\n",
    "    rd_type = rd.randint(0,len(shoes_type)-1)\n",
    "    rd_color = rd.randint(0, len(colors)-1)\n",
    "    data.append([i, random_date(), shoes_type[rd_type], colors[rd_color], states[rd_state]])\n",
    "\n",
    "df = pd.DataFrame(data, columns = ['id', 'timestamp', 'shoe-type', 'color', 'state'])\n",
    "# df.to_csv('csv_output/ch2_fig1.csv', index=False)\n",
    "df = pd.read_csv('csv_output/ch2_fig1.csv')\n",
    "df.head()"
   ]
  },
  {
   "cell_type": "code",
   "execution_count": 8,
   "metadata": {
    "collapsed": false
   },
   "outputs": [],
   "source": [
    "df = pd.read_csv('csv_output/ch2_fig1.csv')\n",
    "df2 = df.groupby(['state']).color.mean().reset_index()\n",
    "df2.head()\n",
    "\n",
    "import plotly\n",
    "import plotly.plotly as py\n",
    "\n",
    "# to publish online\n",
    "# plotly.tools.set_credentials_file(username='your user name', api_key='your api key')\n",
    "\n",
    "# off line\n",
    "# plotly.offline.init_notebook_mode()\n",
    "\n",
    "for col in df2.columns:\n",
    "    df2[col] = df2[col].astype(str)\n",
    "\n",
    "scl = [[0, 'rgb(242,240,247)'],[2, 'rgb(218,218,235)'],[4, 'rgb(188,189,220)'],\n",
    "       [6, 'rgb(158,154,200)'],[8, 'rgb(117,107,177)'],[10, 'rgb(84,39,143)']]\n",
    "\n",
    "data = [ dict(\n",
    "        type='choropleth',\n",
    "        colorscale = scl,\n",
    "        autocolorscale = False,\n",
    "        locations = df2['state'],\n",
    "        z = df2['color'].astype(float),\n",
    "        locationmode = 'USA-states',\n",
    "#         text = df['text'],\n",
    "        marker = dict(\n",
    "            line = dict (\n",
    "                color = 'rgb(255,255,255)',\n",
    "                width = 2\n",
    "            )\n",
    "        ),\n",
    "        colorbar = dict(\n",
    "            title = \"Color Brightness\"\n",
    "        )\n",
    "    ) ]\n",
    "\n",
    "layout = dict(\n",
    "        title = 'Color Brightness Average by State',\n",
    "        geo = dict(\n",
    "            scope='usa',\n",
    "            projection=dict( type='albers usa' ),\n",
    "            showlakes = True,\n",
    "            lakecolor = 'rgb(255, 255, 255)',\n",
    "        ),\n",
    "    )\n",
    "    \n",
    "fig = dict( data=data, layout=layout )\n",
    "\n",
    "# publish online\n",
    "# py.iplot( fig, filename='d3-cloropleth-map' )\n",
    "\n",
    "# offline\n",
    "# plotly.offline.iplot(fig)\n",
    "# py.image.save_as(fig, filename='svg_output/ch2_fig1.png')"
   ]
  },
  {
   "cell_type": "code",
   "execution_count": 6,
   "metadata": {
    "collapsed": false
   },
   "outputs": [
    {
     "data": {
      "text/html": [
       "<div>\n",
       "    <a href=\"https://plot.ly/~l1990790120271c/29/\" target=\"_blank\" title=\"Color Brightness Average by State\" style=\"display: block; text-align: center;\"><img src=\"https://plot.ly/~l1990790120271c/29.png\" alt=\"Color Brightness Average by State\" style=\"max-width: 100%;width: 600px;\"  width=\"600\" onerror=\"this.onerror=null;this.src='https://plot.ly/404.png';\" /></a>\n",
       "    <script data-plotly=\"l1990790120271c:29\"  src=\"https://plot.ly/embed.js\" async></script>\n",
       "</div>"
      ],
      "text/plain": [
       "<IPython.core.display.HTML object>"
      ]
     },
     "metadata": {},
     "output_type": "display_data"
    }
   ],
   "source": [
    "%%html\n",
    "<div>\n",
    "    <a href=\"https://plot.ly/~l1990790120271c/29/\" target=\"_blank\" title=\"Color Brightness Average by State\" style=\"display: block; text-align: center;\"><img src=\"https://plot.ly/~l1990790120271c/29.png\" alt=\"Color Brightness Average by State\" style=\"max-width: 100%;width: 600px;\"  width=\"600\" onerror=\"this.onerror=null;this.src='https://plot.ly/404.png';\" /></a>\n",
    "    <script data-plotly=\"l1990790120271c:29\"  src=\"https://plot.ly/embed.js\" async></script>\n",
    "</div>"
   ]
  }
 ],
 "metadata": {
  "kernelspec": {
   "display_name": "Python 3",
   "language": "python",
   "name": "python3"
  },
  "language_info": {
   "codemirror_mode": {
    "name": "ipython",
    "version": 3
   },
   "file_extension": ".py",
   "mimetype": "text/x-python",
   "name": "python",
   "nbconvert_exporter": "python",
   "pygments_lexer": "ipython3",
   "version": "3.5.1"
  }
 },
 "nbformat": 4,
 "nbformat_minor": 0
}
